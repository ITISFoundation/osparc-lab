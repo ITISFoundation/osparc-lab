{
 "cells": [
  {
   "cell_type": "code",
   "execution_count": 9,
   "metadata": {},
   "outputs": [
    {
     "name": "stdout",
     "output_type": "stream",
     "text": [
      "email = guidon@itis.ethz.ch\n",
      "organization = IT'IS Foundation\n",
      "my datatsets\n",
      "simcore-dataset-test\n",
      "N:collection:14d52ae3-5406-4848-8b39-e7203cbf384d\n",
      "<Dataset name='New Dataset' id='N:dataset:fc2e3e75-7589-44ac-831b-00b63cf2922c'>\n"
     ]
    }
   ],
   "source": [
    "from blackfynn import Blackfynn\n",
    "\n",
    "bf = Blackfynn('guidon')\n",
    "\n",
    "print \"email =\", bf.profile.email\n",
    "print \"organization =\", bf.context.name\n",
    "\n",
    "print \"my datatsets\"\n",
    "\n",
    "for ds in bf.datasets():\n",
    "    print ds.name\n",
    "\n",
    "simcore_ds = bf.get_dataset(\"simcore-dataset-test\")\n",
    "for item in simcore_ds:\n",
    "    print item.id\n",
    "    \n",
    "ds = bf.create_dataset(\"New Dataset\")\n",
    "print ds\n",
    "\n",
    "    "
   ]
  },
  {
   "cell_type": "code",
   "execution_count": 10,
   "metadata": {
    "collapsed": true
   },
   "outputs": [],
   "source": [
    "ds = bf.get_dataset(\"New Dataset\")"
   ]
  },
  {
   "cell_type": "code",
   "execution_count": 11,
   "metadata": {},
   "outputs": [
    {
     "data": {
      "text/plain": [
       "[<Dataset name='simcore-dataset-test' id='N:dataset:c6f7ae8c-2baf-4ed6-ad73-655205498484'>,\n",
       " <Dataset name='BF Tutorial' id='N:dataset:fc2e3e75-7589-44ac-831b-00b63cf2922c'>]"
      ]
     },
     "execution_count": 11,
     "metadata": {},
     "output_type": "execute_result"
    }
   ],
   "source": [
    "new_name = \"BF Tutorial\"\n",
    "ds.name = new_name\n",
    "ds.update()\n",
    "bf.datasets()"
   ]
  },
  {
   "cell_type": "code",
   "execution_count": 12,
   "metadata": {},
   "outputs": [
    {
     "name": "stdout",
     "output_type": "stream",
     "text": [
      "Contetns for Practice Dataset\n",
      "<Collection name='original collection 2' id='N:collection:c7b87873-67d7-4cd3-b1bc-70c1885ac546'>\n",
      "<Collection name='original collection 1' id='N:collection:7f986992-5d73-4c7e-8a88-d8f6ba8ed49f'>\n",
      "<Collection name='final collection' id='N:collection:8f374946-3287-455d-b698-12f33fcc59d2'>\n"
     ]
    }
   ],
   "source": [
    "from blackfynn import Collection\n",
    "\n",
    "ds = bf.create_dataset(\"Practice Dataset\")\n",
    "\n",
    "ds.create_collection(\"original collection 2\")\n",
    "ds.create_collection(\"original collection 1\")\n",
    "ds.create_collection(\"final collection\")\n",
    "\n",
    "print \"Contetns for\", ds.name\n",
    "for item in ds:\n",
    "    print item"
   ]
  },
  {
   "cell_type": "code",
   "execution_count": 17,
   "metadata": {},
   "outputs": [
    {
     "data": {
      "text/plain": [
       "{u'appendToPackage': False,\n",
       " u'bucket': u'prod-uploads-blackfynn',\n",
       " u'dataset': u'N:dataset:294ad570-e97b-4d3e-9b45-1956d3b4c72a',\n",
       " u'destination': u'N:collection:c7b87873-67d7-4cd3-b1bc-70c1885ac546',\n",
       " u'email': u'guidon@itis.ethz.ch',\n",
       " u'encryptionKeyId': u'arn:aws:kms:us-east-1:960751427106:key/ffc48f9e-0486-4098-a480-bd66be2d9c70',\n",
       " u'fileGroupPath': u'guidon@itis.ethz.ch/ebf110da-f605-416c-bae8-a34a1c8f0664/',\n",
       " u'files': [u'guidon@itis.ethz.ch/ebf110da-f605-416c-bae8-a34a1c8f0664/T2.nii.gz',\n",
       "  u'guidon@itis.ethz.ch/ebf110da-f605-416c-bae8-a34a1c8f0664/blackfynn.pdf',\n",
       "  u'guidon@itis.ethz.ch/ebf110da-f605-416c-bae8-a34a1c8f0664/small_region.svs',\n",
       "  u'guidon@itis.ethz.ch/ebf110da-f605-416c-bae8-a34a1c8f0664/testData.nev',\n",
       "  u'guidon@itis.ethz.ch/ebf110da-f605-416c-bae8-a34a1c8f0664/testData.ns2'],\n",
       " u'groupId': u'ebf110da-f605-416c-bae8-a34a1c8f0664',\n",
       " u'organizationId': u'N:organization:a27ae406-5076-4bc8-ba59-0b90b1a1c224',\n",
       " u'session': u'b6bda344-4226-489f-ac20-9308d6206517',\n",
       " u'userId': u'N:user:1b8e4b82-bc06-4317-ae05-582b1062f1c4'}"
      ]
     },
     "execution_count": 17,
     "metadata": {},
     "output_type": "execute_result"
    }
   ],
   "source": [
    "col1 = bf.get(\"N:collection:7f986992-5d73-4c7e-8a88-d8f6ba8ed49f\")\n",
    "col2 = ds[0]\n",
    "col3 = ds[2]\n",
    "\n",
    "col1.upload('example_data/table1.csv',\\\n",
    "            'example_data/table2.csv',\\\n",
    "            'example_data/table3.csv')\n",
    "\n",
    "col2.upload('example_data/testData.nev',\\\n",
    "            'example_data/testData.ns2',\\\n",
    "            'example_data/T2.nii.gz',\\\n",
    "            'example_data/blackfynn.pdf',\\\n",
    "            'example_data/small_region.svs')\n"
   ]
  },
  {
   "cell_type": "code",
   "execution_count": 18,
   "metadata": {
    "collapsed": true
   },
   "outputs": [],
   "source": [
    "ds.update()"
   ]
  },
  {
   "cell_type": "code",
   "execution_count": 19,
   "metadata": {},
   "outputs": [
    {
     "name": "stdout",
     "output_type": "stream",
     "text": [
      "<Dataset name='Practice Dataset' id='N:dataset:294ad570-e97b-4d3e-9b45-1956d3b4c72a'>\n",
      "  <Collection name='original collection 2' id='N:collection:c7b87873-67d7-4cd3-b1bc-70c1885ac546'>\n",
      "    <DataPackage name='T2' id='N:package:c3e54e43-e8ca-4e90-b538-5bfd4ee160c1'>\n",
      "    <DataPackage name='blackfynn' id='N:package:4e0fbd74-c1e3-45de-a305-4a04ecfbde84'>\n",
      "    <TimeSeries name='testData' id='N:package:99f68bc6-f68f-41c6-a94f-3c6831fc6a1e'>\n",
      "    <DataPackage name='small_region' id='N:package:5496cfbf-9326-4292-b02b-4e667ad5798e'>\n",
      "  <Collection name='original collection 1' id='N:collection:7f986992-5d73-4c7e-8a88-d8f6ba8ed49f'>\n",
      "    <Tabular name='table1' id='N:package:c2b2f628-5ec6-4290-9df2-5562464663d9'>\n",
      "    <Tabular name='table2' id='N:package:cc83ecb2-a346-4775-926e-02f4e88bc3ae'>\n",
      "    <Tabular name='table3' id='N:package:03a2f305-4a84-46de-b1ac-950e66dfb5ed'>\n",
      "  <Collection name='final collection' id='N:collection:8f374946-3287-455d-b698-12f33fcc59d2'>\n"
     ]
    }
   ],
   "source": [
    "ds.print_tree()"
   ]
  },
  {
   "cell_type": "code",
   "execution_count": 20,
   "metadata": {
    "scrolled": true
   },
   "outputs": [
    {
     "name": "stdout",
     "output_type": "stream",
     "text": [
      "<Dataset name='Practice Dataset' id='N:dataset:294ad570-e97b-4d3e-9b45-1956d3b4c72a'>\n",
      "  <Collection name='final collection' id='N:collection:8f374946-3287-455d-b698-12f33fcc59d2'>\n",
      "    <Tabular name='table1' id='N:package:c2b2f628-5ec6-4290-9df2-5562464663d9'>\n",
      "    <Tabular name='table2' id='N:package:cc83ecb2-a346-4775-926e-02f4e88bc3ae'>\n",
      "    <Tabular name='table3' id='N:package:03a2f305-4a84-46de-b1ac-950e66dfb5ed'>\n",
      "    <DataPackage name='T2' id='N:package:c3e54e43-e8ca-4e90-b538-5bfd4ee160c1'>\n",
      "    <DataPackage name='blackfynn' id='N:package:4e0fbd74-c1e3-45de-a305-4a04ecfbde84'>\n",
      "    <TimeSeries name='testData' id='N:package:99f68bc6-f68f-41c6-a94f-3c6831fc6a1e'>\n",
      "    <DataPackage name='small_region' id='N:package:5496cfbf-9326-4292-b02b-4e667ad5798e'>\n"
     ]
    }
   ],
   "source": [
    "for item in [col1.items, col2.items]:\n",
    "    for package in item:\n",
    "        bf.move(col3, package.id)\n",
    "col1.delete()\n",
    "col2.delete()\n",
    "ds.update()\n",
    "ds.print_tree()"
   ]
  },
  {
   "cell_type": "code",
   "execution_count": null,
   "metadata": {
    "collapsed": true
   },
   "outputs": [],
   "source": []
  }
 ],
 "metadata": {
  "kernelspec": {
   "display_name": "Python 2",
   "language": "python",
   "name": "python2"
  },
  "language_info": {
   "codemirror_mode": {
    "name": "ipython",
    "version": 2
   },
   "file_extension": ".py",
   "mimetype": "text/x-python",
   "name": "python",
   "nbconvert_exporter": "python",
   "pygments_lexer": "ipython2",
   "version": "2.7.13"
  }
 },
 "nbformat": 4,
 "nbformat_minor": 2
}
